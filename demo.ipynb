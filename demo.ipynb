{
 "cells": [
  {
   "cell_type": "code",
   "execution_count": null,
   "metadata": {},
   "outputs": [],
   "source": []
  },
  {
   "attachments": {},
   "cell_type": "markdown",
   "metadata": {},
   "source": [
    "## Congruence analysis\n",
    "\n",
    "X is congruent a module b (  X ≡ a (mod b)  ) if: b is a divisor of X-a.(that is, if there is an integer k such that X − a = kb)\n",
    "    \n",
    "The statement X ≡ a (mod b) asserts is that X and a have the same remainder when divided by b.\n",
    "\n",
    "That is:  \n",
    "    X = pb + r \n",
    "    a = qb + r\n",
    "Substracting them:\n",
    "    X - a = (p-q)b $\\rightarrow$ X - a = kb\n",
    "\n",
    "Also X = kb + a\n",
    " \n",
    "38 ≡ 14 (mod 12)\n",
    "\n",
    "The definition of congruence also applies to negative values. For example:\n",
    "\n",
    "2 ≡ −3 (mod 5)\n",
    "−8 ≡ 7 (mod 5)\n",
    "−3 ≡ −8 (mod 5)\n"
   ]
  },
  {
   "cell_type": "code",
   "execution_count": 1,
   "metadata": {},
   "outputs": [],
   "source": [
    "def are_congruent(X, a, b):\n",
    "    return X%b == a%b"
   ]
  },
  {
   "cell_type": "code",
   "execution_count": 4,
   "metadata": {},
   "outputs": [
    {
     "name": "stdout",
     "output_type": "stream",
     "text": [
      "X =  4 time  0.00016498565673828125\n"
     ]
    }
   ],
   "source": [
    "import time \n",
    "# dumbest solution \n",
    "def find_X(a:list, b:list):\n",
    "    X = 1\n",
    "    found = False\n",
    "    while not found:\n",
    "        found = True\n",
    "        for i in range(len(a)):\n",
    "            if are_congruent(X,a[i],b[i]):\n",
    "                X+=1\n",
    "                found = False\n",
    "                break\n",
    "    return X\n",
    "\n",
    "a = [2,-3,-8,-4,-2]\n",
    "b = [5,5,5,5,5]\n",
    "st = time.time()\n",
    "X = find_X(a,b)\n",
    "et = time.time()\n",
    "print('X = ',X, 'time ', et-st)"
   ]
  }
 ],
 "metadata": {
  "kernelspec": {
   "display_name": "Python 3",
   "language": "python",
   "name": "python3"
  },
  "language_info": {
   "codemirror_mode": {
    "name": "ipython",
    "version": 3
   },
   "file_extension": ".py",
   "mimetype": "text/x-python",
   "name": "python",
   "nbconvert_exporter": "python",
   "pygments_lexer": "ipython3",
   "version": "3.8.10"
  },
  "orig_nbformat": 4
 },
 "nbformat": 4,
 "nbformat_minor": 2
}
