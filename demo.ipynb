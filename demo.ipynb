{
 "cells": [
  {
   "cell_type": "code",
   "execution_count": null,
   "metadata": {},
   "outputs": [],
   "source": []
  },
  {
   "attachments": {},
   "cell_type": "markdown",
   "metadata": {},
   "source": [
    "## Congruence analysis\n",
    "\n",
    "X is congruent a module b (  X ≡ a (mod b)  ) if: b is a divisor of X-a.(that is, if there is an integer k such that X − a = kb)\n",
    "    \n",
    "The statement X ≡ a (mod b) asserts is that X and a have the same remainder when divided by b.\n",
    "\n",
    "That is:  \n",
    "    X = pb + r \n",
    "    a = qb + r\n",
    "Substracting them:\n",
    "    X - a = (p-q)b $\\rightarrow$ X - a = kb\n",
    "\n",
    "Also X = kb + a\n",
    " \n",
    "38 ≡ 14 (mod 12)\n",
    "\n",
    "The definition of congruence also applies to negative values. For example:\n",
    "\n",
    "2 ≡ −3 (mod 5)\n",
    "−8 ≡ 7 (mod 5)\n",
    "−3 ≡ −8 (mod 5)\n"
   ]
  },
  {
   "cell_type": "code",
   "execution_count": 3,
   "metadata": {},
   "outputs": [],
   "source": [
    "def are_congruent(X, a, b):\n",
    "    return X%b == a%b"
   ]
  },
  {
   "cell_type": "code",
   "execution_count": 1,
   "metadata": {},
   "outputs": [],
   "source": [
    "import random\n",
    "# a and b generators\n",
    "def generator(n_min:int,n_max:int, range_min:int,range_max:int):\n",
    "    \"\"\" generate two lists of integers of size n in range [n_min, n_max]\n",
    "\n",
    "        the numbers of both lists a and b are such that, for every index i, \n",
    "        a[i] <= b[i] and a[i],b[i] are in range [range_min,range_max]\n",
    "    \"\"\"\n",
    "    n = random.randint(n_min,n_max)\n",
    "    a = []\n",
    "    b = []\n",
    "    source = range(range_min,range_max+1)\n",
    "    for i in range(n): \n",
    "        x1, x2 = random.sample(source,2)\n",
    "        if x1 <= x2:\n",
    "            a.append(x1)\n",
    "            b.append(x2)\n",
    "        else:\n",
    "            a.append(x2)\n",
    "            b.append(x1)\n",
    "    return a, b\n"
   ]
  },
  {
   "cell_type": "code",
   "execution_count": 11,
   "metadata": {},
   "outputs": [
    {
     "name": "stdout",
     "output_type": "stream",
     "text": [
      "[126, 62, 87, 272, 167, -50, 181, 143, 19, -72, -94, 181, -18, 37, 72, 33, 242, -75, 219, 9, 112, -13, -95, 19, -58, 138, 172, -91] \n",
      " [284, 254, 244, 278, 259, 182, 291, 272, 262, 198, -31, 300, 73, 114, 88, 160, 289, 4, 241, 143, 141, 34, 250, 74, -52, 282, 265, 6]\n",
      "X =  2 time  0.00018668174743652344\n"
     ]
    }
   ],
   "source": [
    "import time \n",
    "# dumbest solution \n",
    "def find_X(a:list, b:list):\n",
    "    X = 1\n",
    "    found = False\n",
    "    while not found:\n",
    "        found = True\n",
    "        for i in range(len(a)):\n",
    "            if are_congruent(X,a[i],b[i]):\n",
    "                X+=1\n",
    "                found = False\n",
    "                break\n",
    "    return X\n",
    "\n",
    "# a = [2,-3,-8,-4,-2]\n",
    "# b = [5,5,5,5,5]\n",
    "a, b = generator(10, 30,-100, 300)\n",
    "print(a,'\\n',b)\n",
    "st = time.time()\n",
    "X = find_X(a,b)\n",
    "et = time.time()\n",
    "print('X = ',X, 'time ', et-st)"
   ]
  }
 ],
 "metadata": {
  "kernelspec": {
   "display_name": "Python 3",
   "language": "python",
   "name": "python3"
  },
  "language_info": {
   "codemirror_mode": {
    "name": "ipython",
    "version": 3
   },
   "file_extension": ".py",
   "mimetype": "text/x-python",
   "name": "python",
   "nbconvert_exporter": "python",
   "pygments_lexer": "ipython3",
   "version": "3.8.10"
  },
  "orig_nbformat": 4
 },
 "nbformat": 4,
 "nbformat_minor": 2
}
