{
 "cells": [
  {
   "cell_type": "code",
   "execution_count": null,
   "metadata": {},
   "outputs": [],
   "source": []
  },
  {
   "attachments": {},
   "cell_type": "markdown",
   "metadata": {},
   "source": [
    "## Congruence analysis\n",
    "\n",
    "X is congruent a module b (  X ≡ a (mod b)  ) if: b is a divisor of X-a.(that is, if there is an integer k such that X − a = kb)\n",
    "    \n",
    "The statement X ≡ a (mod b) asserts is that X and a have the same remainder when divided by b.\n",
    "\n",
    "That is:  \n",
    "\n",
    "    X = pb + r \n",
    "\n",
    "    a = qb + r\n",
    "\n",
    "Substracting them:\n",
    "\n",
    "X - a = (p-q)b $ \\rightarrow $ X - a = kb\n",
    "\n",
    "Also X = kb + a\n",
    " \n",
    "38 ≡ 14 (mod 12)\n",
    "\n",
    "The definition of congruence also applies to negative values. For example:\n",
    "\n",
    "2 ≡ −3 (mod 5)\n",
    "\n",
    "−8 ≡ 7 (mod 5)\n",
    "\n",
    "−3 ≡ −8 (mod 5)\n"
   ]
  },
  {
   "cell_type": "code",
   "execution_count": 2,
   "metadata": {},
   "outputs": [],
   "source": [
    "def are_congruent(X, a, b):\n",
    "    return X%b == a%b"
   ]
  },
  {
   "cell_type": "code",
   "execution_count": 8,
   "metadata": {},
   "outputs": [],
   "source": [
    "import random\n",
    "# a and b generators\n",
    "def generator(n_min:int,n_max:int, range_min:int,range_max:int):\n",
    "    \"\"\" generate two lists of integers of size n in range [n_min, n_max]\n",
    "\n",
    "        the numbers of both lists a and b are such that, for every index i, \n",
    "        a[i] <= b[i] and a[i],b[i] are in range [range_min,range_max]\n",
    "    \"\"\"\n",
    "    n = random.randint(n_min,n_max)\n",
    "    a = []\n",
    "    b = []\n",
    "    source = range(range_min,range_max+1)\n",
    "    for i in range(n):       \n",
    "        x1, x2 = random.sample(source,2)\n",
    "        while x1 == 0 or x2 == 0:\n",
    "            x1, x2 = random.sample(source,2)\n",
    "        if x1 <= x2:\n",
    "            a.append(x1)\n",
    "            b.append(x2)\n",
    "        else:\n",
    "            a.append(x2)\n",
    "            b.append(x1)\n",
    "    return a, b\n"
   ]
  },
  {
   "cell_type": "code",
   "execution_count": 10,
   "metadata": {},
   "outputs": [
    {
     "name": "stdout",
     "output_type": "stream",
     "text": [
      "[91, 23, 177, -5, 202, 34, -100, 7, 155, 162, -90, -32, -20, 95, 117, -7, -3, -3, 89, 50, -7, -77, -64, 253, 193, -96, -54, 16, 130, 184, -75, -54, 88, -67, 215, 17, -82, 102, 162, -26, 114, 34, 104, 99, -57, -4, 90, 125, -8, 101, 38, -22, 15, -25, 67, 75, 27, 76, -16, -76, 266, 231, -70, 8, -34, -70, -96, 209, 233, -79, 190, -44, 17, -82, 151, -31, 24, -83, 78, -16, -19, -84, -49, -69, -89, 218, -69, -27, 80, 176, 202, -94, 125, -78, 169, -88, 41, -80, 257, 31, 169, 12, -6, -60, 54, -86, -90, 70, 101, -51, 89, 35, -66, 131, 183, 8, 19, -59, 182, 113, 65, 105, 75, 105, -20, 46, -79, 133, 13, -51, 267, 117, -57, -89, 178, -23, 134, -71, 228, 61, 137, 24, 35, 121, 252, -45, -49, -2, 66, 174, -92, 261, 50, -32, 206, 135, -95, -59, -76, -65, -18, -66, 35, -25, 26, 104, 64, -91, 10, 278, -99, -56, 174, 19, -60, 40, 92, 223, -86, -84, -82, 54, -89, 133, -98, 91, 2, 111, 15, 13, 4, -55, 99, 32, 24, 274, 202, -73, 88, 207, -91, -15, 76, -37, 277, 43, -96, -65, 241, -28, -81, 55, 245, -53, -57, 110, 90, 130, 8, 222, 10, -33, 9, 161, 91, -84, -37, -68, 123, 102, -18, -74, 52, 33, 141, 249, 77, -50, -93, -75, 127, -4, 13, -56, 42, -45, 101, -93, 282, -49, -20, 4, -47, -52, 101, -82, -78, -25, -1, 201, 43, 125, 247, 45, -12, 22, -67, 19, 167, -53, 5, 237, 144, -18, 125, -13, -48, -76, -27, -13, 127, 8, 38, 48, 170, -79, 133, 82, 6, -91, 163, 5, 120, 79, -8, -36, 173, 20, 71, 56, -91, -3, -46, 74, -70, -70, 238, 177, 128, 120, 38, 162, -62, -5, 251, 143, 227, -81, 245, 3, 194, -39, 12, 145, 88, -81, -79, 68, 95, 32, 16, -21, 290, 15, 285, -30, 109, -75, 162, -54, 145, 40, -44, 10, -23, 35, -65, -23, 82, 56] \n",
      " [222, 247, 250, 211, 280, 256, 184, 285, 203, 231, -59, 187, 119, 254, 201, 275, 120, 163, 128, 245, 89, 131, 214, 265, 237, 54, 194, 118, 133, 265, 7, 177, 188, 44, 282, 239, 299, 146, 218, 147, 192, 147, 207, 257, 126, 16, 156, 216, 69, 190, 87, -8, 285, 161, 75, 221, 94, 285, 290, 269, 286, 239, 154, 126, 250, 200, 294, 292, 283, 30, 207, 164, 284, 148, 268, 127, 207, 140, 170, -12, 44, 116, 96, 79, -46, 285, 78, 107, 172, 211, 279, 169, 205, 90, 282, 220, 59, 228, 276, 269, 286, 198, 157, 133, 123, 46, 44, 123, 119, 259, 156, 91, 201, 172, 244, 53, 249, -3, 196, 221, 220, 269, 281, 258, 79, 254, 260, 216, 173, 299, 292, 221, 158, 98, 264, 56, 142, 222, 246, 105, 222, 63, 128, 268, 270, 235, 77, 136, 77, 266, 215, 294, 255, 89, 230, 235, 47, 227, 47, 120, 99, 1, 167, 60, 153, 213, 83, -3, 181, 287, 132, 41, 191, 203, -35, 181, 160, 275, 223, 186, 287, 159, -37, 265, 114, 285, 96, 147, 189, 241, 43, 12, 218, 177, 137, 278, 239, 63, 245, 231, -71, 205, 246, 201, 292, 241, 257, 234, 270, 184, 289, 193, 293, 117, 167, 262, 251, 234, 192, 238, 271, 224, 282, 181, 291, 101, 71, -26, 259, 250, 238, 14, 244, 289, 281, 254, 168, 132, 110, 261, 188, 142, 153, 100, 242, 11, 161, 90, 287, 55, 8, 124, 106, 88, 133, 290, 76, 300, 171, 219, 183, 290, 262, 54, 173, 251, 2, 198, 238, 264, 50, 300, 146, 67, 267, 277, 19, 191, 100, 142, 238, 142, 85, 72, 262, 150, 200, 247, 138, 262, 288, 132, 201, 196, 266, 28, 203, 268, 140, 108, 63, 65, 175, 298, 300, 211, 253, 223, 216, 278, 146, 181, 98, 227, 259, 170, 274, -64, 259, 89, 267, 254, 51, 219, 120, 121, 42, 165, 276, 48, 130, 22, 298, 29, 291, 54, 290, -3, 241, 50, 270, 294, 62, 115, 80, 169, 204, 237, 182, 142]\n"
     ]
    }
   ],
   "source": [
    "import time \n",
    "# dumbest solution \n",
    "def find_X(a:list, b:list):\n",
    "    X = 1\n",
    "    found = False\n",
    "    while not found:\n",
    "        found = True\n",
    "        for i in range(len(a)):\n",
    "            if are_congruent(X,a[i],b[i]):\n",
    "                X+=1\n",
    "                found = False\n",
    "                break\n",
    "    return X\n",
    "\n",
    "# a = [2,-3,-8,-4,-2]\n",
    "# b = [5,5,5,5,5]\n",
    "a, b = generator(349, 350,-100, 300)\n",
    "print(a,'\\n',b)\n",
    "st = time.time()\n",
    "X = find_X(a,b)\n",
    "et = time.time()\n",
    "print('X = ',X, 'time ', et-st)"
   ]
  },
  {
   "attachments": {},
   "cell_type": "markdown",
   "metadata": {},
   "source": [
    "Step 0: The initial step is to create an initial solution so the algorithm can iterate over it and find a better one. The initial solution can be seen as the starting point of the algorithm, in most cases, this initial solution is assigned randomly, however, if you have a better understanding of the problem you could design a specific algorithm to construct the initial solution. For SMTWTP here, we will randomly create the initial solution as follows:"
   ]
  },
  {
   "cell_type": "code",
   "execution_count": null,
   "metadata": {},
   "outputs": [],
   "source": [
    "def get_InitialSolution(n_min,n_max,show=False):\n",
    "        n = random.randint(n_min,n_max)\n",
    "        if show == True:\n",
    "            print(f\"initial Random Solution: {n}\")\n",
    "        return n\n"
   ]
  },
  {
   "attachments": {},
   "cell_type": "markdown",
   "metadata": {},
   "source": [
    "Step 1: Now that we have the initial solution, the next step is to create the list of candidate solutions from the current solution 𝕊 (initial solution in iteration 0), we call these solutions neighbors or the neighborhood of 𝕊. To find the neighbor solutions from the current solution 𝕊, we need to define what is called a neighborhood function, under this function each solution 𝕊 has an associated subset of solutions. Let’s assume that the current solution in SMTWTP is !!!!!!a random number!!!!!! between a n_min and n_max!!!!!!!!!! and we defined our neighborhood function as !!!NOT FUCKING IDEA!!!, i.e., change the number for anothers ...................... In conclusion, "
   ]
  },
  {
   "cell_type": "code",
   "execution_count": null,
   "metadata": {},
   "outputs": [],
   "source": [
    "def SwapMove(solution, i ,j): #Not the way \n",
    "        '''Takes a list (solution)\n",
    "        returns a new neighbor solution with i, j swapped\n",
    "       '''\n",
    "        solution = solution.copy()\n",
    "        # job index in the solution:\n",
    "        i_index = solution.index(i)\n",
    "        j_index = solution.index(j)\n",
    "        #Swap\n",
    "        solution[i_index], solution[j_index] = solution[j_index], solution[i_index]\n",
    "        return solution\n",
    "\n",
    "initial_solution = get_InitialSolution(instance_dict, 2021, show=True);\n",
    "print('Neighbor Solution: {}'.format(SwapMove(initial_solution, 10, 5)))"
   ]
  }
 ],
 "metadata": {
  "kernelspec": {
   "display_name": "Python 3",
   "language": "python",
   "name": "python3"
  },
  "language_info": {
   "codemirror_mode": {
    "name": "ipython",
    "version": 3
   },
   "file_extension": ".py",
   "mimetype": "text/x-python",
   "name": "python",
   "nbconvert_exporter": "python",
   "pygments_lexer": "ipython3",
   "version": "3.10.0"
  },
  "orig_nbformat": 4
 },
 "nbformat": 4,
 "nbformat_minor": 2
}
